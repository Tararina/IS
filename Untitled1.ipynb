{
 "cells": [
  {
   "cell_type": "code",
   "execution_count": 1,
   "metadata": {},
   "outputs": [],
   "source": [
    "import matplotlib.pyplot as plt\n",
    "import pandas as pd\n",
    "import numpy as np\n",
    "import sklearn\n",
    "import scipy"
   ]
  },
  {
   "cell_type": "code",
   "execution_count": 2,
   "metadata": {},
   "outputs": [],
   "source": [
    "data=pd.read_csv(\"train.csv\")"
   ]
  },
  {
   "cell_type": "code",
   "execution_count": 3,
   "metadata": {},
   "outputs": [
    {
     "data": {
      "text/plain": [
       "PassengerId    False\n",
       "Survived       False\n",
       "Pclass         False\n",
       "Name           False\n",
       "Sex            False\n",
       "Age             True\n",
       "SibSp          False\n",
       "Parch          False\n",
       "Ticket         False\n",
       "Fare           False\n",
       "Cabin           True\n",
       "Embarked        True\n",
       "dtype: bool"
      ]
     },
     "execution_count": 3,
     "metadata": {},
     "output_type": "execute_result"
    }
   ],
   "source": [
    "data.isna().any()"
   ]
  },
  {
   "cell_type": "code",
   "execution_count": 4,
   "metadata": {},
   "outputs": [
    {
     "data": {
      "text/plain": [
       "0      22.000000\n",
       "1      38.000000\n",
       "2      26.000000\n",
       "3      35.000000\n",
       "4      35.000000\n",
       "5      29.699118\n",
       "6      54.000000\n",
       "7       2.000000\n",
       "8      27.000000\n",
       "9      14.000000\n",
       "10      4.000000\n",
       "11     58.000000\n",
       "12     20.000000\n",
       "13     39.000000\n",
       "14     14.000000\n",
       "15     55.000000\n",
       "16      2.000000\n",
       "17     29.699118\n",
       "18     31.000000\n",
       "19     29.699118\n",
       "20     35.000000\n",
       "21     34.000000\n",
       "22     15.000000\n",
       "23     28.000000\n",
       "24      8.000000\n",
       "25     38.000000\n",
       "26     29.699118\n",
       "27     19.000000\n",
       "28     29.699118\n",
       "29     29.699118\n",
       "         ...    \n",
       "861    21.000000\n",
       "862    48.000000\n",
       "863    29.699118\n",
       "864    24.000000\n",
       "865    42.000000\n",
       "866    27.000000\n",
       "867    31.000000\n",
       "868    29.699118\n",
       "869     4.000000\n",
       "870    26.000000\n",
       "871    47.000000\n",
       "872    33.000000\n",
       "873    47.000000\n",
       "874    28.000000\n",
       "875    15.000000\n",
       "876    20.000000\n",
       "877    19.000000\n",
       "878    29.699118\n",
       "879    56.000000\n",
       "880    25.000000\n",
       "881    33.000000\n",
       "882    22.000000\n",
       "883    28.000000\n",
       "884    25.000000\n",
       "885    39.000000\n",
       "886    27.000000\n",
       "887    19.000000\n",
       "888    29.699118\n",
       "889    26.000000\n",
       "890    32.000000\n",
       "Name: Age, Length: 891, dtype: float64"
      ]
     },
     "execution_count": 4,
     "metadata": {},
     "output_type": "execute_result"
    }
   ],
   "source": [
    "data[\"Age\"].fillna(data[\"Age\"].mean())"
   ]
  },
  {
   "cell_type": "code",
   "execution_count": 5,
   "metadata": {},
   "outputs": [
    {
     "data": {
      "text/html": [
       "<div>\n",
       "<style scoped>\n",
       "    .dataframe tbody tr th:only-of-type {\n",
       "        vertical-align: middle;\n",
       "    }\n",
       "\n",
       "    .dataframe tbody tr th {\n",
       "        vertical-align: top;\n",
       "    }\n",
       "\n",
       "    .dataframe thead th {\n",
       "        text-align: right;\n",
       "    }\n",
       "</style>\n",
       "<table border=\"1\" class=\"dataframe\">\n",
       "  <thead>\n",
       "    <tr style=\"text-align: right;\">\n",
       "      <th></th>\n",
       "      <th>Pclass</th>\n",
       "      <th>Age</th>\n",
       "      <th>SibSp</th>\n",
       "    </tr>\n",
       "  </thead>\n",
       "  <tbody>\n",
       "    <tr>\n",
       "      <th>Pclass</th>\n",
       "      <td>1.000000</td>\n",
       "      <td>-0.369226</td>\n",
       "      <td>0.083081</td>\n",
       "    </tr>\n",
       "    <tr>\n",
       "      <th>Age</th>\n",
       "      <td>-0.369226</td>\n",
       "      <td>1.000000</td>\n",
       "      <td>-0.308247</td>\n",
       "    </tr>\n",
       "    <tr>\n",
       "      <th>SibSp</th>\n",
       "      <td>0.083081</td>\n",
       "      <td>-0.308247</td>\n",
       "      <td>1.000000</td>\n",
       "    </tr>\n",
       "  </tbody>\n",
       "</table>\n",
       "</div>"
      ],
      "text/plain": [
       "          Pclass       Age     SibSp\n",
       "Pclass  1.000000 -0.369226  0.083081\n",
       "Age    -0.369226  1.000000 -0.308247\n",
       "SibSp   0.083081 -0.308247  1.000000"
      ]
     },
     "execution_count": 5,
     "metadata": {},
     "output_type": "execute_result"
    }
   ],
   "source": [
    "data[[\"Pclass\",\"Age\",\"SibSp\"]].corr()"
   ]
  },
  {
   "cell_type": "code",
   "execution_count": 6,
   "metadata": {},
   "outputs": [
    {
     "data": {
      "text/plain": [
       "(array([0.00785634, 0.00785634, 0.01122334, 0.00673401, 0.01122334,\n",
       "        0.00448934, 0.003367  , 0.003367  , 0.00448934, 0.00897868,\n",
       "        0.00224467, 0.00448934, 0.00112233, 0.00224467, 0.00785634,\n",
       "        0.00561167, 0.01907969, 0.01459035, 0.0291807 , 0.02805836,\n",
       "        0.01795735, 0.02693603, 0.03030303, 0.01795735, 0.03479237,\n",
       "        0.02581369, 0.02020202, 0.02020202, 0.03030303, 0.02244669,\n",
       "        0.03030303, 0.01907969, 0.02244669, 0.01683502, 0.01795735,\n",
       "        0.02020202, 0.02581369, 0.00673401, 0.01234568, 0.01571268,\n",
       "        0.01683502, 0.00673401, 0.01459035, 0.00561167, 0.01010101,\n",
       "        0.01571268, 0.003367  , 0.01010101, 0.01010101, 0.00673401,\n",
       "        0.01122334, 0.00785634, 0.00673401, 0.00112233, 0.00897868,\n",
       "        0.003367  , 0.00448934, 0.00224467, 0.00561167, 0.00224467,\n",
       "        0.00448934, 0.003367  , 0.00448934, 0.00224467, 0.00224467,\n",
       "        0.003367  , 0.00112233, 0.        , 0.        , 0.        ,\n",
       "        0.003367  , 0.00224467, 0.        , 0.        , 0.00112233,\n",
       "        0.        , 0.        , 0.        , 0.        , 0.00112233]),\n",
       " array([ 0,  1,  2,  3,  4,  5,  6,  7,  8,  9, 10, 11, 12, 13, 14, 15, 16,\n",
       "        17, 18, 19, 20, 21, 22, 23, 24, 25, 26, 27, 28, 29, 30, 31, 32, 33,\n",
       "        34, 35, 36, 37, 38, 39, 40, 41, 42, 43, 44, 45, 46, 47, 48, 49, 50,\n",
       "        51, 52, 53, 54, 55, 56, 57, 58, 59, 60, 61, 62, 63, 64, 65, 66, 67,\n",
       "        68, 69, 70, 71, 72, 73, 74, 75, 76, 77, 78, 79, 80]),\n",
       " <a list of 80 Patch objects>)"
      ]
     },
     "execution_count": 6,
     "metadata": {},
     "output_type": "execute_result"
    },
    {
     "data": {
      "image/png": "[encoded data removed]",
      "text/plain": [
       "<Figure size 432x288 with 1 Axes>"
      ]
     },
     "metadata": {
      "needs_background": "light"
     },
     "output_type": "display_data"
    }
   ],
   "source": [
    "weights=np.ones_like(data[\"Age\"])/float(len(data[\"Age\"]))\n",
    "plt.hist(data[\"Age\"],bins=range(0,81),weights=weights)"
   ]
  },
  {
   "cell_type": "code",
   "execution_count": 20,
   "metadata": {},
   "outputs": [],
   "source": [
    "miss=data[\"Name\"].apply(lambda x: x if x.find(\"Miss\") !=-1 else 0)\n",
    "miss=miss[miss != 0].reset_index(drop=True)"
   ]
  },
  {
   "cell_type": "code",
   "execution_count": 21,
   "metadata": {},
   "outputs": [],
   "source": [
    "def func_miss(x):\n",
    "    if x.find(' ', (x.find(\"Miss\")+6)) == -1:\n",
    "        return x[(x.find(\"Miss\")+6):]\n",
    "    else:\n",
    "        x[(x.find(\"Miss\")+6): (x.find(' ',(x.find(\"Miss\")+6)))]"
   ]
  },
  {
   "cell_type": "code",
   "execution_count": 22,
   "metadata": {},
   "outputs": [],
   "source": [
    "miss=miss.apply(lambda x: func_miss(x))"
   ]
  },
  {
   "cell_type": "code",
   "execution_count": 23,
   "metadata": {},
   "outputs": [],
   "source": [
    "mrs=data[\"Name\"].apply(lambda x: x if x.find(\"Mrs\") !=-1 else 0)\n",
    "mrs=mrs[mrs != 0].reset_index(drop=True)"
   ]
  },
  {
   "cell_type": "code",
   "execution_count": 24,
   "metadata": {},
   "outputs": [],
   "source": [
    "def func_mrs(x):\n",
    "    return x[(x.find(\"(\")+1): (x.find(' ', (x.find(\"(\")+1)))]"
   ]
  },
  {
   "cell_type": "code",
   "execution_count": 25,
   "metadata": {},
   "outputs": [],
   "source": [
    "mrs=mrs.apply(lambda x: func_mrs(x))"
   ]
  },
  {
   "cell_type": "code",
   "execution_count": 26,
   "metadata": {},
   "outputs": [
    {
     "data": {
      "text/plain": [
       "Mary         11\n",
       "Anna          9\n",
       "Elizabeth     8\n",
       "Bertha        5\n",
       "Margaret      5\n",
       "Alice         4\n",
       "Ada           4\n",
       "Maria         4\n",
       "Emily         3\n",
       "\"Mrs          3\n",
       "Edith         3\n",
       "Catherine     3\n",
       "Jane          3\n",
       "Florence      3\n",
       "Elisabeth     2\n",
       "Annie         2\n",
       "Lily          2\n",
       "Augusta       2\n",
       "Mathilde      2\n",
       "Clara         2\n",
       "Amelia        2\n",
       "Madeleine     2\n",
       "Ida           2\n",
       "Martha        2\n",
       "Charlotte     2\n",
       "Marie         2\n",
       "Rosa          2\n",
       "Kate          2\n",
       "Rosalie       2\n",
       "Ethel         2\n",
       "             ..\n",
       "Susan         1\n",
       "Irene         1\n",
       "Emelia        1\n",
       "Alfrida       1\n",
       "Lucile        1\n",
       "Anne          1\n",
       "Amy           1\n",
       "Marjorie      1\n",
       "Kelly,        1\n",
       "Esther        1\n",
       "Marion        1\n",
       "Bridget       1\n",
       "Jessie        1\n",
       "Aloisia       1\n",
       "Hannah        1\n",
       "Selini        1\n",
       "Sylvia        1\n",
       "Juliette      1\n",
       "Jamila        1\n",
       "Leah          1\n",
       "Helene        1\n",
       "Elna          1\n",
       "Elin          1\n",
       "Hileni        1\n",
       "Elsie         1\n",
       "Velin         1\n",
       "Leila         1\n",
       "Latifa        1\n",
       "Katie         1\n",
       "Mantoura      1\n",
       "Name: Name, Length: 125, dtype: int64"
      ]
     },
     "execution_count": 26,
     "metadata": {},
     "output_type": "execute_result"
    }
   ],
   "source": [
    "pd.concat([mrs,miss], axis=0).value_counts()"
   ]
  },
  {
   "cell_type": "code",
   "execution_count": 27,
   "metadata": {},
   "outputs": [
    {
     "data": {
      "text/plain": [
       "Embarked\n",
       "C     58\n",
       "Q     11\n",
       "S    282\n",
       "Name: PassengerId, dtype: int64"
      ]
     },
     "execution_count": 27,
     "metadata": {},
     "output_type": "execute_result"
    }
   ],
   "source": [
    "data[(data[\"Sex\"]==\"male\") & (data[\"Age\"]>20)].groupby(\"Embarked\").count()[\"PassengerId\"]"
   ]
  },
  {
   "cell_type": "code",
   "execution_count": 28,
   "metadata": {},
   "outputs": [
    {
     "data": {
      "text/plain": [
       "30.72664459161148"
      ]
     },
     "execution_count": 28,
     "metadata": {},
     "output_type": "execute_result"
    }
   ],
   "source": [
    "data[data[\"Sex\"]==\"male\"][\"Age\"].mean()"
   ]
  },
  {
   "cell_type": "code",
   "execution_count": 29,
   "metadata": {},
   "outputs": [
    {
     "data": {
      "text/plain": [
       "27.0"
      ]
     },
     "execution_count": 29,
     "metadata": {},
     "output_type": "execute_result"
    }
   ],
   "source": [
    "data[data[\"Sex\"]==\"female\"][\"Age\"].median()"
   ]
  },
  {
   "cell_type": "code",
   "execution_count": null,
   "metadata": {},
   "outputs": [],
   "source": []
  }
 ],
 "metadata": {
  "kernelspec": {
   "display_name": "Python 3",
   "language": "python",
   "name": "python3"
  },
  "language_info": {
   "codemirror_mode": {
    "name": "ipython",
    "version": 3
   },
   "file_extension": ".py",
   "mimetype": "text/x-python",
   "name": "python",
   "nbconvert_exporter": "python",
   "pygments_lexer": "ipython3",
   "version": "3.7.3"
  }
 },
 "nbformat": 4,
 "nbformat_minor": 2
}
